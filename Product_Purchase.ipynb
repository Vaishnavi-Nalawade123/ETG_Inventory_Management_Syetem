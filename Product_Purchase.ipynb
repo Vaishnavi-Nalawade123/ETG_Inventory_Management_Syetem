{
  "nbformat": 4,
  "nbformat_minor": 0,
  "metadata": {
    "colab": {
      "name": "Product Purchase.ipynb",
      "provenance": [],
      "collapsed_sections": []
    },
    "kernelspec": {
      "name": "python3",
      "display_name": "Python 3"
    },
    "language_info": {
      "name": "python"
    }
  },
  "cells": [
    {
      "cell_type": "markdown",
      "metadata": {
        "id": "qXaCsoIRVLC0"
      },
      "source": [
        "### **READ INVENTORY**"
      ]
    },
    {
      "cell_type": "code",
      "metadata": {
        "id": "yiZFDOcSUaXI"
      },
      "source": [
        "import json\n",
        "import time\n",
        "fd = open(\"records.json\",'r')\n",
        "r = fd.read()\n",
        "fd.close()\n",
        "records = json.loads(r)"
      ],
      "execution_count": 179,
      "outputs": []
    },
    {
      "cell_type": "code",
      "metadata": {
        "colab": {
          "base_uri": "https://localhost:8080/"
        },
        "id": "upfIOOctUkR5",
        "outputId": "a71dbb35-7ee4-4d54-fd43-75205925a1c5"
      },
      "source": [
        "records"
      ],
      "execution_count": 180,
      "outputs": [
        {
          "output_type": "execute_result",
          "data": {
            "text/plain": [
              "{'1001': {'MFD': '2nd Sep 2021',\n",
              "  'Price': 36,\n",
              "  'Product Name': 'Choco Cake',\n",
              "  'Quantity': 20},\n",
              " '1002': {'MFD': '2nd Aug 2021',\n",
              "  'Price': 800,\n",
              "  'Product Name': 'Milk Cake',\n",
              "  'Quantity': 98},\n",
              " '1003': {'MFD': '22nd July 2021',\n",
              "  'Price': 85,\n",
              "  'Product Name': 'Drink',\n",
              "  'Quantity': 100},\n",
              " '1004': {'MFD': '2nd Sep 2021',\n",
              "  'Price': 5,\n",
              "  'Product Name': 'Candy',\n",
              "  'Quantity': 1000},\n",
              " '1005': {'MFD': '2nd July 2020',\n",
              "  'Price': 20,\n",
              "  'Product Name': 'Pen',\n",
              "  'Quantity': 98},\n",
              " '1006': {'MFD': '25th May 2020',\n",
              "  'Price': 50000,\n",
              "  'Product Name': 'Phone',\n",
              "  'Quantity': 10},\n",
              " '1007': {'MFD': '6th Aug 2019',\n",
              "  'Price': 1500,\n",
              "  'Product Name': 'Mic',\n",
              "  'Quantity': 0},\n",
              " '1008': {'MFD': '2nd Sep 2021',\n",
              "  'Price': 599,\n",
              "  'Product Name': 'Case',\n",
              "  'Quantity': 5},\n",
              " '1009': {'MFD': '2nd Sep 2021',\n",
              "  'Price': 1999,\n",
              "  'Product Name': 'Keyboard',\n",
              "  'Quantity': 10},\n",
              " '1010': {'MFD': '2nd Feb 2021',\n",
              "  'Price': 62000,\n",
              "  'Product Name': 'Laptop',\n",
              "  'Quantity': 10},\n",
              " '1011': {'MFD': '2nd Aug 2020',\n",
              "  'Price': 69999,\n",
              "  'Product Name': 'Joystick',\n",
              "  'Quantity': 10},\n",
              " '1012': {'MFD': '3rd July 2021',\n",
              "  'Price': 69999,\n",
              "  'Product Name': 'Television',\n",
              "  'Quantity': 10},\n",
              " '1013': {'MFD': '12th June 2021',\n",
              "  'Price': 599,\n",
              "  'Product Name': 'Pen Drive',\n",
              "  'Quantity': 50},\n",
              " '1014': {'MFD': '16TH May 2021',\n",
              "  'Price': 90000,\n",
              "  'Product Name': 'AC',\n",
              "  'Quantity': 10},\n",
              " '1015': {'MFD': '5th April 2021',\n",
              "  'Price': 15000,\n",
              "  'Product Name': 'Speaker',\n",
              "  'Quantity': 9},\n",
              " '1016': {'MFD': '22nd July 2021',\n",
              "  'Price': 1699,\n",
              "  'Product Name': 'Power Bank',\n",
              "  'Quantity': 15},\n",
              " '1017': {'MFD': '31st Aug 2021',\n",
              "  'Price': 150,\n",
              "  'Product Name': 'Sanitizer',\n",
              "  'Quantity': 100},\n",
              " '1018': {'MFD': '24th Aug 2021',\n",
              "  'Price': 150,\n",
              "  'Product Name': 'Hand wash',\n",
              "  'Quantity': 200},\n",
              " '1019': {'MFD': '14th July 2021',\n",
              "  'Price': 15,\n",
              "  'Product Name': 'Soap',\n",
              "  'Quantity': 200},\n",
              " '1020': {'MFD': '1st Sep 2021',\n",
              "  'Price': 20,\n",
              "  'Product Name': 'Parle G',\n",
              "  'Quantity': 250},\n",
              " '1021': {'MFD': '3rd Sep 2021',\n",
              "  'Price': 25,\n",
              "  'Product Name': 'Marie ',\n",
              "  'Quantity': 150},\n",
              " '1022': {'MFD': '27th Aug 2021',\n",
              "  'Price': 30,\n",
              "  'Product Name': 'Good Day',\n",
              "  'Quantity': 150},\n",
              " '1023': {'MFD': '14th July 2021',\n",
              "  'Price': 30,\n",
              "  'Product Name': 'Dairy Milk',\n",
              "  'Quantity': 200},\n",
              " '1024': {'MFD': '30th July 2021',\n",
              "  'Price': 15,\n",
              "  'Product Name': 'Munch',\n",
              "  'Quantity': 200},\n",
              " '1025': {'MFD': '15th May 2021',\n",
              "  'Price': 220,\n",
              "  'Product Name': 'Deodorant',\n",
              "  'Quantity': 120},\n",
              " '1026': {'MFD': '17th June 2021',\n",
              "  'Price': 300,\n",
              "  'Product Name': 'Shampoo',\n",
              "  'Quantity': 100},\n",
              " '1027': {'MFD': '4th Sep 2021',\n",
              "  'Price': 25,\n",
              "  'Product Name': 'Bread',\n",
              "  'Quantity': 30},\n",
              " '1028': {'MFD': '22nd July 2021',\n",
              "  'Price': 75,\n",
              "  'Product Name': 'Sauce',\n",
              "  'Quantity': 100},\n",
              " '1029': {'MFD': '14th June 2021',\n",
              "  'Price': 50,\n",
              "  'Product Name': 'Noodles',\n",
              "  'Quantity': 100},\n",
              " '1030': {'MFD': '1st Aug 2021',\n",
              "  'Price': 30,\n",
              "  'Product Name': 'Maggie',\n",
              "  'Quantity': 120},\n",
              " '1031': {'MFD': '22nd April 2021',\n",
              "  'Price': 120,\n",
              "  'Product Name': 'ALL OUT',\n",
              "  'Quantity': 30},\n",
              " '1032': {'MFD': '3rd May 2021',\n",
              "  'Price': 3999,\n",
              "  'Product Name': 'Headset',\n",
              "  'Quantity': 20}}"
            ]
          },
          "metadata": {},
          "execution_count": 180
        }
      ]
    },
    {
      "cell_type": "markdown",
      "metadata": {
        "id": "MAN-SMsaVAJa"
      },
      "source": [
        "### **UPDATE INVENTORY AFTER PURCHASE**"
      ]
    },
    {
      "cell_type": "code",
      "metadata": {
        "colab": {
          "base_uri": "https://localhost:8080/"
        },
        "id": "cQ1Nn9UYUtPj",
        "outputId": "e414328d-c248-4e0f-b44c-e1a8465e771b"
      },
      "source": [
        "import json\n",
        "fd = open(\"records.json\",'r')\n",
        "r = fd.read()\n",
        "fd.close()\n",
        "records = json.loads(r)\n",
        "import time\n",
        "ui_prod  = str(input(\"Enter the product_Id: \"))\n",
        "ui_quant = int(input(\"Enter the quantity: \"))\n",
        "\n",
        "if ui_quant<=records[ui_prod]['Quantity']:\n",
        "  print(\"********************************\")    \n",
        "  print(\"Product Name: \", records[ui_prod]['Product Name'])\n",
        "  print(\"Price: \", records[ui_prod]['Price'])\n",
        "  print(\"MFD:\", records[ui_prod]['MFD'])\n",
        "  print(\"Time of purchase:\",time.ctime())\n",
        "  print(\"---------------------------------\")\n",
        "  print(\"Billing Amount: \", records[ui_prod]['Price'] * ui_quant)\n",
        "  print(\"*********************************\")\n",
        "  print(\"*THANK YOU!! VISIT AGAIN!!*\")\n",
        "else:\n",
        "  print(\"Product Unavailable!! Available Quantity:\",records[ui_prod]['Quantity'])\n",
        "\n",
        "records[ui_prod]['Quantity'] = records[ui_prod]['Quantity'] - ui_quant"
      ],
      "execution_count": 234,
      "outputs": [
        {
          "output_type": "stream",
          "name": "stdout",
          "text": [
            "Enter the product_Id: 1009\n",
            "Enter the quantity: 2\n",
            "********************************\n",
            "Product Name:  Keyboard\n",
            "Price:  1999\n",
            "MFD: 2nd Sep 2021\n",
            "Time of purchase: Sun Sep  5 17:07:23 2021\n",
            "---------------------------------\n",
            "Billing Amount:  3998\n",
            "*********************************\n",
            "*THANK YOU!! VISIT AGAIN!!*\n"
          ]
        }
      ]
    },
    {
      "cell_type": "code",
      "metadata": {
        "id": "liOtORcxUy_q"
      },
      "source": [
        "js = json.dumps(records)\n",
        "fd = open(\"records.json\",'w')\n",
        "fd.write(js)\n",
        "fd.close()"
      ],
      "execution_count": 235,
      "outputs": []
    },
    {
      "cell_type": "code",
      "metadata": {
        "id": "716LOFh4U1X4"
      },
      "source": [
        "fd = open(\"records.json\",'r')\n",
        "records = fd.read()\n",
        "fd.close()"
      ],
      "execution_count": 236,
      "outputs": []
    },
    {
      "cell_type": "code",
      "metadata": {
        "colab": {
          "base_uri": "https://localhost:8080/"
        },
        "id": "3Ep4L2UaU3-P",
        "outputId": "fa70b435-4e5d-493a-b97f-b5693990917c"
      },
      "source": [
        "records = json.loads(records)\n",
        "records "
      ],
      "execution_count": 237,
      "outputs": [
        {
          "output_type": "execute_result",
          "data": {
            "text/plain": [
              "{'1001': {'MFD': '2nd Sep 2021',\n",
              "  'Price': 36,\n",
              "  'Product Name': 'Choco Cake',\n",
              "  'Quantity': 20},\n",
              " '1002': {'MFD': '2nd Aug 2021',\n",
              "  'Price': 800,\n",
              "  'Product Name': 'Milk Cake',\n",
              "  'Quantity': 98},\n",
              " '1003': {'MFD': '22nd July 2021',\n",
              "  'Price': 85,\n",
              "  'Product Name': 'Drink',\n",
              "  'Quantity': 100},\n",
              " '1004': {'MFD': '2nd Sep 2021',\n",
              "  'Price': 5,\n",
              "  'Product Name': 'Candy',\n",
              "  'Quantity': 1000},\n",
              " '1005': {'MFD': '2nd July 2020',\n",
              "  'Price': 20,\n",
              "  'Product Name': 'Pen',\n",
              "  'Quantity': 97},\n",
              " '1006': {'MFD': '25th May 2020',\n",
              "  'Price': 50000,\n",
              "  'Product Name': 'Phone',\n",
              "  'Quantity': 10},\n",
              " '1007': {'MFD': '6th Aug 2019',\n",
              "  'Price': 1500,\n",
              "  'Product Name': 'Mic',\n",
              "  'Quantity': 0},\n",
              " '1008': {'MFD': '2nd Sep 2021',\n",
              "  'Price': 599,\n",
              "  'Product Name': 'Case',\n",
              "  'Quantity': 5},\n",
              " '1009': {'MFD': '2nd Sep 2021',\n",
              "  'Price': 1999,\n",
              "  'Product Name': 'Keyboard',\n",
              "  'Quantity': 8},\n",
              " '1010': {'MFD': '2nd Feb 2021',\n",
              "  'Price': 62000,\n",
              "  'Product Name': 'Laptop',\n",
              "  'Quantity': 10},\n",
              " '1011': {'MFD': '2nd Aug 2020',\n",
              "  'Price': 69999,\n",
              "  'Product Name': 'Joystick',\n",
              "  'Quantity': 10},\n",
              " '1012': {'MFD': '3rd July 2021',\n",
              "  'Price': 69999,\n",
              "  'Product Name': 'Television',\n",
              "  'Quantity': 10},\n",
              " '1013': {'MFD': '12th June 2021',\n",
              "  'Price': 599,\n",
              "  'Product Name': 'Pen Drive',\n",
              "  'Quantity': 50},\n",
              " '1014': {'MFD': '16TH May 2021',\n",
              "  'Price': 90000,\n",
              "  'Product Name': 'AC',\n",
              "  'Quantity': 10},\n",
              " '1015': {'MFD': '5th April 2021',\n",
              "  'Price': 15000,\n",
              "  'Product Name': 'Speaker',\n",
              "  'Quantity': 9},\n",
              " '1016': {'MFD': '22nd July 2021',\n",
              "  'Price': 1699,\n",
              "  'Product Name': 'Power Bank',\n",
              "  'Quantity': 15},\n",
              " '1017': {'MFD': '31st Aug 2021',\n",
              "  'Price': 150,\n",
              "  'Product Name': 'Sanitizer',\n",
              "  'Quantity': 100},\n",
              " '1018': {'MFD': '24th Aug 2021',\n",
              "  'Price': 150,\n",
              "  'Product Name': 'Hand wash',\n",
              "  'Quantity': 200},\n",
              " '1019': {'MFD': '14th July 2021',\n",
              "  'Price': 15,\n",
              "  'Product Name': 'Soap',\n",
              "  'Quantity': 200},\n",
              " '1020': {'MFD': '1st Sep 2021',\n",
              "  'Price': 20,\n",
              "  'Product Name': 'Parle G',\n",
              "  'Quantity': 249},\n",
              " '1021': {'MFD': '3rd Sep 2021',\n",
              "  'Price': 25,\n",
              "  'Product Name': 'Marie ',\n",
              "  'Quantity': 150},\n",
              " '1022': {'MFD': '27th Aug 2021',\n",
              "  'Price': 30,\n",
              "  'Product Name': 'Good Day',\n",
              "  'Quantity': 149},\n",
              " '1023': {'MFD': '14th July 2021',\n",
              "  'Price': 30,\n",
              "  'Product Name': 'Dairy Milk',\n",
              "  'Quantity': 200},\n",
              " '1024': {'MFD': '30th July 2021',\n",
              "  'Price': 15,\n",
              "  'Product Name': 'Munch',\n",
              "  'Quantity': 200},\n",
              " '1025': {'MFD': '15th May 2021',\n",
              "  'Price': 220,\n",
              "  'Product Name': 'Deodorant',\n",
              "  'Quantity': 120},\n",
              " '1026': {'MFD': '17th June 2021',\n",
              "  'Price': 300,\n",
              "  'Product Name': 'Shampoo',\n",
              "  'Quantity': 100},\n",
              " '1027': {'MFD': '4th Sep 2021',\n",
              "  'Price': 25,\n",
              "  'Product Name': 'Bread',\n",
              "  'Quantity': 30},\n",
              " '1028': {'MFD': '22nd July 2021',\n",
              "  'Price': 75,\n",
              "  'Product Name': 'Sauce',\n",
              "  'Quantity': 100},\n",
              " '1029': {'MFD': '14th June 2021',\n",
              "  'Price': 50,\n",
              "  'Product Name': 'Noodles',\n",
              "  'Quantity': 100},\n",
              " '1030': {'MFD': '1st Aug 2021',\n",
              "  'Price': 30,\n",
              "  'Product Name': 'Maggie',\n",
              "  'Quantity': 120},\n",
              " '1031': {'MFD': '22nd April 2021',\n",
              "  'Price': 120,\n",
              "  'Product Name': 'ALL OUT',\n",
              "  'Quantity': 30},\n",
              " '1032': {'MFD': '3rd May 2021',\n",
              "  'Price': 3999,\n",
              "  'Product Name': 'Headset',\n",
              "  'Quantity': 20}}"
            ]
          },
          "metadata": {},
          "execution_count": 237
        }
      ]
    },
    {
      "cell_type": "markdown",
      "metadata": {
        "id": "ZLpIMfi4VUsI"
      },
      "source": [
        "### **Sales JSON**"
      ]
    },
    {
      "cell_type": "code",
      "metadata": {
        "id": "rgSNMnzxVTlD",
        "colab": {
          "base_uri": "https://localhost:8080/"
        },
        "outputId": "89bec9b3-02c9-45dc-fd27-3a13741087ed"
      },
      "source": [
        "sale=json.dumps(sale)\n",
        "fd = open(\"sale.json\",'w')\n",
        "sale=fd.write(sale)\n",
        "fd.close()\n",
        "Transaction_ID = str(input(\"Enter the Transaction ID: \"))\n",
        "sale={'Transaction_ID':Transaction_ID,'Product ID' : ui_prod, 'Quantity' : ui_quant, 'Amount': records[ui_prod]['Price'] * ui_quant}\n",
        "sale"
      ],
      "execution_count": 249,
      "outputs": [
        {
          "name": "stdout",
          "output_type": "stream",
          "text": [
            "Enter the Transaction ID: 1\n"
          ]
        },
        {
          "output_type": "execute_result",
          "data": {
            "text/plain": [
              "{'Amount': 3998, 'Product ID': '1009', 'Quantity': 2, 'Transaction_ID': '1'}"
            ]
          },
          "metadata": {},
          "execution_count": 249
        }
      ]
    },
    {
      "cell_type": "code",
      "metadata": {
        "id": "RMEyB3YPVOZo",
        "colab": {
          "base_uri": "https://localhost:8080/"
        },
        "outputId": "17a093a1-3045-4404-d0e8-8ed68e5eafc7"
      },
      "source": [
        "fd = open(\"sale.json\",'r')\n",
        "fd.read()\n",
        "fd.close()\n",
        "sale"
      ],
      "execution_count": 250,
      "outputs": [
        {
          "output_type": "execute_result",
          "data": {
            "text/plain": [
              "{'Amount': 3998, 'Product ID': '1009', 'Quantity': 2, 'Transaction_ID': '1'}"
            ]
          },
          "metadata": {},
          "execution_count": 250
        }
      ]
    }
  ]
}